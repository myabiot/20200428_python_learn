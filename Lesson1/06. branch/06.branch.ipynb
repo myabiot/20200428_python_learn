{
 "cells": [
  {
   "cell_type": "code",
   "execution_count": null,
   "metadata": {
    "tags": []
   },
   "outputs": [],
   "source": [
    "score = int (input(\"Please enter your score: \" ))\n",
    "\n",
    "if score >= 60:\n",
    "    print(\"It's a pass.\")\n",
    "\n",
    "print(\"Finish the process.\")"
   ]
  },
  {
   "cell_type": "code",
   "execution_count": null,
   "metadata": {
    "tags": []
   },
   "outputs": [],
   "source": [
    "score = int (input(\"Please enter your score: \" ))\n",
    "\n",
    "if score >= 60:\n",
    "    print(\"It's a pass.\")\n",
    "    print(\"Congratulations.\")\n",
    "\n",
    "print(\"Finish the process.\")"
   ]
  },
  {
   "cell_type": "code",
   "execution_count": 2,
   "metadata": {
    "tags": []
   },
   "outputs": [
    {
     "output_type": "stream",
     "name": "stdout",
     "text": "Finish the process\n"
    }
   ],
   "source": [
    "age = int(input(\"Please enter your age :\"))\n",
    "\n",
    "if age >= 18:\n",
    "    if age <= 65:\n",
    "            print(\"Please come on board.\")\n",
    "\n",
    "print(\"Finish the process\")"
   ]
  },
  {
   "cell_type": "code",
   "execution_count": 4,
   "metadata": {
    "tags": []
   },
   "outputs": [
    {
     "output_type": "stream",
     "name": "stdout",
     "text": "Rejected.\nLet's try harder.\nFinish the process\n"
    }
   ],
   "source": [
    "score = int (input(\"Please enter your score: \" ))\n",
    "\n",
    "if score >= 60:\n",
    "    print (\"It's the pass.\")\n",
    "    print(\"Congratulations.\")\n",
    "else:\n",
    "    print (\"Rejected.\")\n",
    "    print(\"Let's try harder.\")\n",
    "\n",
    "print(\"Finish the process\")\n"
   ]
  },
  {
   "cell_type": "code",
   "execution_count": 18,
   "metadata": {
    "tags": []
   },
   "outputs": [
    {
     "output_type": "stream",
     "name": "stdout",
     "text": "Rejected.\nLet's try harder.\nFinish the process\n"
    }
   ],
   "source": [
    "score = int (input(\"Please enter your score: \" ))\n",
    "\n",
    "if score >= 90:\n",
    "    print (\"Excellent.\")\n",
    "    print(\"Very well done!\")\n",
    "else:\n",
    "    if score >= 60:\n",
    "        print (\"It's the pass.\")\n",
    "        print(\"Congratulations.\")\n",
    "    else:\n",
    "        print (\"Rejected.\")\n",
    "        print(\"Let's try harder.\")\n",
    "\n",
    "print(\"Finish the process\")"
   ]
  },
  {
   "cell_type": "code",
   "execution_count": 21,
   "metadata": {
    "tags": []
   },
   "outputs": [
    {
     "output_type": "stream",
     "name": "stdout",
     "text": "Rejected.\nLet's try harder.\nFinish the process\n"
    }
   ],
   "source": [
    "score = int (input(\"Please enter your score: \" ))\n",
    "\n",
    "if score >= 90:\n",
    "    print (\"Excellent.\")\n",
    "    print(\"Very well done!\")\n",
    "elif score >= 60:\n",
    "    print (\"It's the pass.\")\n",
    "    print(\"Congratulations.\")\n",
    "else:\n",
    "    print (\"Rejected.\")\n",
    "    print(\"Let's try harder.\")\n",
    "\n",
    "print(\"Finish the process\")\n"
   ]
  },
  {
   "cell_type": "code",
   "execution_count": 29,
   "metadata": {
    "tags": []
   },
   "outputs": [
    {
     "output_type": "stream",
     "name": "stdout",
     "text": "error\nFinish the process\n"
    }
   ],
   "source": [
    "season = input(\"Please enter your season: \" )\n",
    "\n",
    "if season == \"spring\":\n",
    "    print (\"spring is dawning\")\n",
    "elif season == \"summer\":\n",
    "    print(\"summer is at night\")\n",
    "elif season == \"automn\":\n",
    "    print (\"automn comes at dusk\")\n",
    "elif season == \"winter\":\n",
    "    print (\"winter is just going to have to work\")\n",
    "else:\n",
    "    print (\"error\")\n",
    "\n",
    "print(\"Finish the process\")\n"
   ]
  },
  {
   "cell_type": "code",
   "execution_count": null,
   "metadata": {},
   "outputs": [],
   "source": []
  }
 ],
 "metadata": {
  "language_info": {
   "codemirror_mode": {
    "name": "ipython",
    "version": 3
   },
   "file_extension": ".py",
   "mimetype": "text/x-python",
   "name": "python",
   "nbconvert_exporter": "python",
   "pygments_lexer": "ipython3",
   "version": "3.7.6-final"
  },
  "orig_nbformat": 2,
  "kernelspec": {
   "name": "python3",
   "display_name": "Python 3"
  }
 },
 "nbformat": 4,
 "nbformat_minor": 2
}